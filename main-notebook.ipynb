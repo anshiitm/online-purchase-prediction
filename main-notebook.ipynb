{
 "cells": [
  {
   "cell_type": "markdown",
   "id": "8164ec02",
   "metadata": {
    "id": "3Xc6Vka3vvct",
    "papermill": {
     "duration": 0.011772,
     "end_time": "2023-03-30T16:54:05.104603",
     "exception": false,
     "start_time": "2023-03-30T16:54:05.092831",
     "status": "completed"
    },
    "tags": []
   },
   "source": [
    "# Importing Libraries and Data"
   ]
  },
  {
   "cell_type": "code",
   "execution_count": 1,
   "id": "1ddcfe01",
   "metadata": {
    "execution": {
     "iopub.execute_input": "2023-03-30T16:54:05.131457Z",
     "iopub.status.busy": "2023-03-30T16:54:05.130628Z",
     "iopub.status.idle": "2023-03-30T16:54:06.487886Z",
     "shell.execute_reply": "2023-03-30T16:54:06.486683Z"
    },
    "id": "mY1Eg1dqdoXG",
    "papermill": {
     "duration": 1.375044,
     "end_time": "2023-03-30T16:54:06.490719",
     "exception": false,
     "start_time": "2023-03-30T16:54:05.115675",
     "status": "completed"
    },
    "tags": []
   },
   "outputs": [],
   "source": [
    "import numpy as np\n",
    "import pandas as pd\n",
    "import matplotlib.pyplot as plt\n",
    "import seaborn as sns\n",
    "\n",
    "from sklearn.model_selection import train_test_split\n",
    "\n",
    "from sklearn.preprocessing import StandardScaler, MinMaxScaler, PolynomialFeatures\n",
    "from sklearn.preprocessing import OrdinalEncoder \n",
    "from sklearn.impute import SimpleImputer\n",
    "from sklearn.preprocessing import FunctionTransformer \n",
    "from sklearn.compose import ColumnTransformer\n",
    "from sklearn.pipeline import Pipeline, FeatureUnion\n",
    "\n",
    "from sklearn.linear_model import SGDClassifier\n",
    "from sklearn.ensemble import BaggingClassifier, RandomForestClassifier\n",
    "from sklearn.metrics import f1_score, classification_report, ConfusionMatrixDisplay\n",
    "from imblearn.over_sampling import SMOTENC\n",
    "from imblearn.under_sampling import RandomUnderSampler\n",
    "from sklearn.model_selection import GridSearchCV, cross_validate\n",
    "from sklearn.feature_selection import SelectFromModel"
   ]
  },
  {
   "cell_type": "code",
   "execution_count": 2,
   "id": "ff9d5c75",
   "metadata": {
    "execution": {
     "iopub.execute_input": "2023-03-30T16:54:06.514946Z",
     "iopub.status.busy": "2023-03-30T16:54:06.514544Z",
     "iopub.status.idle": "2023-03-30T16:54:06.584058Z",
     "shell.execute_reply": "2023-03-30T16:54:06.583135Z"
    },
    "id": "H0OhNcIjd37J",
    "papermill": {
     "duration": 0.084575,
     "end_time": "2023-03-30T16:54:06.586508",
     "exception": false,
     "start_time": "2023-03-30T16:54:06.501933",
     "status": "completed"
    },
    "tags": []
   },
   "outputs": [],
   "source": [
    "data = pd.read_csv('/kaggle/input/e-commerce-shoppers-behaviour-understanding/train_data_v2.csv')"
   ]
  },
  {
   "cell_type": "markdown",
   "id": "ee0e1d85",
   "metadata": {
    "id": "_Y1AV6XBff1s",
    "papermill": {
     "duration": 0.011107,
     "end_time": "2023-03-30T16:54:06.608772",
     "exception": false,
     "start_time": "2023-03-30T16:54:06.597665",
     "status": "completed"
    },
    "tags": []
   },
   "source": [
    "# Data Exploration"
   ]
  },
  {
   "cell_type": "markdown",
   "id": "080ab7d7",
   "metadata": {
    "id": "yim8YPexf5kw",
    "papermill": {
     "duration": 0.010799,
     "end_time": "2023-03-30T16:54:06.630820",
     "exception": false,
     "start_time": "2023-03-30T16:54:06.620021",
     "status": "completed"
    },
    "tags": []
   },
   "source": [
    "## Dataset Description"
   ]
  },
  {
   "cell_type": "markdown",
   "id": "d063995a",
   "metadata": {
    "id": "Avtl6UvcfyOl",
    "papermill": {
     "duration": 0.010544,
     "end_time": "2023-03-30T16:54:06.653286",
     "exception": false,
     "start_time": "2023-03-30T16:54:06.642742",
     "status": "completed"
    },
    "tags": []
   },
   "source": [
    "There are 21 attributes and their descriptions are given below.\n",
    "\n",
    "Files\n",
    "train.csv - the training set\n",
    "test.csv - the test set\n",
    "sample_submission.csv - a sample submission file in the correct format\n",
    "\n",
    "Columns\n",
    "The first six columns represent the different pages in the e-commerce website visited by a user from other sites.\n",
    "\n",
    "*   HomePage: Number of times visited this page\n",
    "\n",
    "*   HomePage_Duration: Total number of duration spent on this page.\n",
    "\n",
    "*   LandingPage: Number of times visited this page\n",
    "\n",
    "*   LandingPage_Duration: Total number of duration spent on this page.\n",
    "\n",
    "*   ProductDesriptionPage Number of times visited this page\n",
    "\n",
    "*   ProductDescriptionPage_Duration: Total number of duration spent on this page.\n",
    "\n",
    "*   GoogleMetric-Bounce Rate: Whenever a user comes to any one web-page of the website and he/she does not go to any other page and exits from the website from the same page, then this activity done by the user is called Bounce. And the percentage of the total number of times the user visiting our website and bounce it, is called Bounce Rate\n",
    "\n",
    "*   GoogleMetric-Exit Rate: The bounce rate is calculated based on the user exiting a website after visiting one page. But some users exit from the second, third, fourth, or any other page of our website, then those visitors’ data help determine the exit rate. The percentage of the total number of times the user to our website who do not exit from the first page (Landing Page) but exit after exploring other website pages is called the Exit Rate.\n",
    "\n",
    "*   GoogleMetric-Page Value: Page Value is the average value for a page that a user visited before landing on the goal page or completing an Ecommerce transaction.\n",
    "\n",
    "*   SeasonalPurchase: It is a weight indicator to track the seasonal purchase. If a user makes a purchase during any seasonal time (Mother’s Day, Diwali, Valentine's Day), we will assign based on internal heuristic.\n",
    "\n",
    "*   Month_ SeasonalPurchase: Month of the special day considered for seasonal purchase.\n",
    "\n",
    "The other attributes like, OS, Search Engine, Zone, Type of Traffic, Customer Type, Gender, Cookies Setting, Education, Marital Status and Weekend Purchase are self-explanatory variables"
   ]
  },
  {
   "cell_type": "markdown",
   "id": "b56a0213",
   "metadata": {
    "id": "ilnmuYQOhlvt",
    "papermill": {
     "duration": 0.010993,
     "end_time": "2023-03-30T16:54:06.676290",
     "exception": false,
     "start_time": "2023-03-30T16:54:06.665297",
     "status": "completed"
    },
    "tags": []
   },
   "source": [
    "As mentioned above there are 21 attributes (and one target variable) in the dataset. In total, there are 21,330 examples as well"
   ]
  },
  {
   "cell_type": "code",
   "execution_count": 3,
   "id": "a0213e6c",
   "metadata": {
    "execution": {
     "iopub.execute_input": "2023-03-30T16:54:06.700477Z",
     "iopub.status.busy": "2023-03-30T16:54:06.700149Z",
     "iopub.status.idle": "2023-03-30T16:54:06.707750Z",
     "shell.execute_reply": "2023-03-30T16:54:06.706812Z"
    },
    "id": "uOqGOrGleqVj",
    "outputId": "92880b30-96b2-40c1-d47e-93283a1bc09c",
    "papermill": {
     "duration": 0.022355,
     "end_time": "2023-03-30T16:54:06.709934",
     "exception": false,
     "start_time": "2023-03-30T16:54:06.687579",
     "status": "completed"
    },
    "tags": []
   },
   "outputs": [
    {
     "data": {
      "text/plain": [
       "(14731, 22)"
      ]
     },
     "execution_count": 3,
     "metadata": {},
     "output_type": "execute_result"
    }
   ],
   "source": [
    "data.shape"
   ]
  },
  {
   "cell_type": "code",
   "execution_count": 4,
   "id": "19fbef5f",
   "metadata": {
    "execution": {
     "iopub.execute_input": "2023-03-30T16:54:06.734218Z",
     "iopub.status.busy": "2023-03-30T16:54:06.733843Z",
     "iopub.status.idle": "2023-03-30T16:54:06.771530Z",
     "shell.execute_reply": "2023-03-30T16:54:06.770740Z"
    },
    "id": "UjTXORRphoqi",
    "outputId": "f6a9b53e-9e9b-4168-f13b-f3e0a1b265ac",
    "papermill": {
     "duration": 0.052344,
     "end_time": "2023-03-30T16:54:06.773555",
     "exception": false,
     "start_time": "2023-03-30T16:54:06.721211",
     "status": "completed"
    },
    "tags": []
   },
   "outputs": [
    {
     "data": {
      "text/html": [
       "<div>\n",
       "<style scoped>\n",
       "    .dataframe tbody tr th:only-of-type {\n",
       "        vertical-align: middle;\n",
       "    }\n",
       "\n",
       "    .dataframe tbody tr th {\n",
       "        vertical-align: top;\n",
       "    }\n",
       "\n",
       "    .dataframe thead th {\n",
       "        text-align: right;\n",
       "    }\n",
       "</style>\n",
       "<table border=\"1\" class=\"dataframe\">\n",
       "  <thead>\n",
       "    <tr style=\"text-align: right;\">\n",
       "      <th></th>\n",
       "      <th>HomePage</th>\n",
       "      <th>HomePage_Duration</th>\n",
       "      <th>LandingPage</th>\n",
       "      <th>LandingPage_Duration</th>\n",
       "      <th>ProductDescriptionPage</th>\n",
       "      <th>ProductDescriptionPage_Duration</th>\n",
       "      <th>GoogleMetric:Bounce Rates</th>\n",
       "      <th>GoogleMetric:Exit Rates</th>\n",
       "      <th>GoogleMetric:Page Values</th>\n",
       "      <th>SeasonalPurchase</th>\n",
       "      <th>...</th>\n",
       "      <th>SearchEngine</th>\n",
       "      <th>Zone</th>\n",
       "      <th>Type of Traffic</th>\n",
       "      <th>CustomerType</th>\n",
       "      <th>Gender</th>\n",
       "      <th>Cookies Setting</th>\n",
       "      <th>Education</th>\n",
       "      <th>Marital Status</th>\n",
       "      <th>WeekendPurchase</th>\n",
       "      <th>Made_Purchase</th>\n",
       "    </tr>\n",
       "  </thead>\n",
       "  <tbody>\n",
       "    <tr>\n",
       "      <th>0</th>\n",
       "      <td>0.0</td>\n",
       "      <td>0.0</td>\n",
       "      <td>0.0</td>\n",
       "      <td>0.0</td>\n",
       "      <td>1.0</td>\n",
       "      <td>0.000000</td>\n",
       "      <td>0.20</td>\n",
       "      <td>0.20</td>\n",
       "      <td>0.0</td>\n",
       "      <td>0.0</td>\n",
       "      <td>...</td>\n",
       "      <td>1.0</td>\n",
       "      <td>9.0</td>\n",
       "      <td>3.0</td>\n",
       "      <td>Returning_Visitor</td>\n",
       "      <td>Not Specified</td>\n",
       "      <td>Deny</td>\n",
       "      <td>Not Specified</td>\n",
       "      <td>Other</td>\n",
       "      <td>0.0</td>\n",
       "      <td>False</td>\n",
       "    </tr>\n",
       "    <tr>\n",
       "      <th>1</th>\n",
       "      <td>0.0</td>\n",
       "      <td>0.0</td>\n",
       "      <td>0.0</td>\n",
       "      <td>0.0</td>\n",
       "      <td>2.0</td>\n",
       "      <td>2.666667</td>\n",
       "      <td>0.05</td>\n",
       "      <td>0.14</td>\n",
       "      <td>0.0</td>\n",
       "      <td>0.0</td>\n",
       "      <td>...</td>\n",
       "      <td>2.0</td>\n",
       "      <td>2.0</td>\n",
       "      <td>4.0</td>\n",
       "      <td>Returning_Visitor</td>\n",
       "      <td>Female</td>\n",
       "      <td>Deny</td>\n",
       "      <td>Others</td>\n",
       "      <td>Married</td>\n",
       "      <td>0.0</td>\n",
       "      <td>False</td>\n",
       "    </tr>\n",
       "    <tr>\n",
       "      <th>2</th>\n",
       "      <td>0.0</td>\n",
       "      <td>0.0</td>\n",
       "      <td>0.0</td>\n",
       "      <td>0.0</td>\n",
       "      <td>10.0</td>\n",
       "      <td>627.500000</td>\n",
       "      <td>0.02</td>\n",
       "      <td>0.05</td>\n",
       "      <td>0.0</td>\n",
       "      <td>0.0</td>\n",
       "      <td>...</td>\n",
       "      <td>3.0</td>\n",
       "      <td>1.0</td>\n",
       "      <td>4.0</td>\n",
       "      <td>Returning_Visitor</td>\n",
       "      <td>Female</td>\n",
       "      <td>ALL</td>\n",
       "      <td>Others</td>\n",
       "      <td>Married</td>\n",
       "      <td>1.0</td>\n",
       "      <td>False</td>\n",
       "    </tr>\n",
       "    <tr>\n",
       "      <th>3</th>\n",
       "      <td>0.0</td>\n",
       "      <td>0.0</td>\n",
       "      <td>0.0</td>\n",
       "      <td>0.0</td>\n",
       "      <td>1.0</td>\n",
       "      <td>0.000000</td>\n",
       "      <td>0.20</td>\n",
       "      <td>0.20</td>\n",
       "      <td>0.0</td>\n",
       "      <td>0.4</td>\n",
       "      <td>...</td>\n",
       "      <td>4.0</td>\n",
       "      <td>3.0</td>\n",
       "      <td>3.0</td>\n",
       "      <td>Returning_Visitor</td>\n",
       "      <td>Male</td>\n",
       "      <td>ALL</td>\n",
       "      <td>Diploma</td>\n",
       "      <td>Single</td>\n",
       "      <td>0.0</td>\n",
       "      <td>False</td>\n",
       "    </tr>\n",
       "    <tr>\n",
       "      <th>4</th>\n",
       "      <td>1.0</td>\n",
       "      <td>0.0</td>\n",
       "      <td>0.0</td>\n",
       "      <td>0.0</td>\n",
       "      <td>0.0</td>\n",
       "      <td>0.000000</td>\n",
       "      <td>0.20</td>\n",
       "      <td>0.20</td>\n",
       "      <td>0.0</td>\n",
       "      <td>0.0</td>\n",
       "      <td>...</td>\n",
       "      <td>2.0</td>\n",
       "      <td>1.0</td>\n",
       "      <td>5.0</td>\n",
       "      <td>Returning_Visitor</td>\n",
       "      <td>Male</td>\n",
       "      <td>Deny</td>\n",
       "      <td>Diploma</td>\n",
       "      <td>Other</td>\n",
       "      <td>1.0</td>\n",
       "      <td>False</td>\n",
       "    </tr>\n",
       "  </tbody>\n",
       "</table>\n",
       "<p>5 rows × 22 columns</p>\n",
       "</div>"
      ],
      "text/plain": [
       "   HomePage  HomePage_Duration  LandingPage  LandingPage_Duration  \\\n",
       "0       0.0                0.0          0.0                   0.0   \n",
       "1       0.0                0.0          0.0                   0.0   \n",
       "2       0.0                0.0          0.0                   0.0   \n",
       "3       0.0                0.0          0.0                   0.0   \n",
       "4       1.0                0.0          0.0                   0.0   \n",
       "\n",
       "   ProductDescriptionPage  ProductDescriptionPage_Duration  \\\n",
       "0                     1.0                         0.000000   \n",
       "1                     2.0                         2.666667   \n",
       "2                    10.0                       627.500000   \n",
       "3                     1.0                         0.000000   \n",
       "4                     0.0                         0.000000   \n",
       "\n",
       "   GoogleMetric:Bounce Rates  GoogleMetric:Exit Rates  \\\n",
       "0                       0.20                     0.20   \n",
       "1                       0.05                     0.14   \n",
       "2                       0.02                     0.05   \n",
       "3                       0.20                     0.20   \n",
       "4                       0.20                     0.20   \n",
       "\n",
       "   GoogleMetric:Page Values  SeasonalPurchase  ... SearchEngine  Zone  \\\n",
       "0                       0.0               0.0  ...          1.0   9.0   \n",
       "1                       0.0               0.0  ...          2.0   2.0   \n",
       "2                       0.0               0.0  ...          3.0   1.0   \n",
       "3                       0.0               0.4  ...          4.0   3.0   \n",
       "4                       0.0               0.0  ...          2.0   1.0   \n",
       "\n",
       "   Type of Traffic       CustomerType         Gender Cookies Setting  \\\n",
       "0              3.0  Returning_Visitor  Not Specified            Deny   \n",
       "1              4.0  Returning_Visitor         Female            Deny   \n",
       "2              4.0  Returning_Visitor         Female             ALL   \n",
       "3              3.0  Returning_Visitor           Male             ALL   \n",
       "4              5.0  Returning_Visitor           Male            Deny   \n",
       "\n",
       "       Education Marital Status WeekendPurchase Made_Purchase  \n",
       "0  Not Specified          Other             0.0         False  \n",
       "1         Others        Married             0.0         False  \n",
       "2         Others        Married             1.0         False  \n",
       "3        Diploma         Single             0.0         False  \n",
       "4        Diploma          Other             1.0         False  \n",
       "\n",
       "[5 rows x 22 columns]"
      ]
     },
     "execution_count": 4,
     "metadata": {},
     "output_type": "execute_result"
    }
   ],
   "source": [
    "data.head()"
   ]
  },
  {
   "cell_type": "markdown",
   "id": "6737e49f",
   "metadata": {
    "id": "uAH-53N_jBRy",
    "papermill": {
     "duration": 0.011235,
     "end_time": "2023-03-30T16:54:06.796905",
     "exception": false,
     "start_time": "2023-03-30T16:54:06.785670",
     "status": "completed"
    },
    "tags": []
   },
   "source": [
    "The target variable has a boolean value (True or False). Hence, this is a classification problem"
   ]
  },
  {
   "cell_type": "code",
   "execution_count": 5,
   "id": "77375fd3",
   "metadata": {
    "execution": {
     "iopub.execute_input": "2023-03-30T16:54:06.823335Z",
     "iopub.status.busy": "2023-03-30T16:54:06.822618Z",
     "iopub.status.idle": "2023-03-30T16:54:06.834851Z",
     "shell.execute_reply": "2023-03-30T16:54:06.834006Z"
    },
    "id": "KrbwErcBi3r4",
    "outputId": "900a9fe7-61a3-4079-c041-89686f920400",
    "papermill": {
     "duration": 0.027502,
     "end_time": "2023-03-30T16:54:06.836749",
     "exception": false,
     "start_time": "2023-03-30T16:54:06.809247",
     "status": "completed"
    },
    "tags": []
   },
   "outputs": [
    {
     "data": {
      "text/plain": [
       "False    9065\n",
       "True     5666\n",
       "Name: Made_Purchase, dtype: int64"
      ]
     },
     "execution_count": 5,
     "metadata": {},
     "output_type": "execute_result"
    }
   ],
   "source": [
    "data['Made_Purchase'].value_counts()"
   ]
  },
  {
   "cell_type": "markdown",
   "id": "334d2883",
   "metadata": {
    "id": "uSklOVytjOOT",
    "papermill": {
     "duration": 0.011803,
     "end_time": "2023-03-30T16:54:06.861675",
     "exception": false,
     "start_time": "2023-03-30T16:54:06.849872",
     "status": "completed"
    },
    "tags": []
   },
   "source": [
    "Let's look at the details of features and the target variable"
   ]
  },
  {
   "cell_type": "code",
   "execution_count": 6,
   "id": "14d769a3",
   "metadata": {
    "execution": {
     "iopub.execute_input": "2023-03-30T16:54:06.887322Z",
     "iopub.status.busy": "2023-03-30T16:54:06.886895Z",
     "iopub.status.idle": "2023-03-30T16:54:06.913316Z",
     "shell.execute_reply": "2023-03-30T16:54:06.912262Z"
    },
    "id": "RV1OJ-B5i-63",
    "outputId": "74c4fb0e-5dfb-4043-fe3a-9cf18fc3cbeb",
    "papermill": {
     "duration": 0.041874,
     "end_time": "2023-03-30T16:54:06.915630",
     "exception": false,
     "start_time": "2023-03-30T16:54:06.873756",
     "status": "completed"
    },
    "tags": []
   },
   "outputs": [
    {
     "name": "stdout",
     "output_type": "stream",
     "text": [
      "<class 'pandas.core.frame.DataFrame'>\n",
      "RangeIndex: 14731 entries, 0 to 14730\n",
      "Data columns (total 22 columns):\n",
      " #   Column                           Non-Null Count  Dtype  \n",
      "---  ------                           --------------  -----  \n",
      " 0   HomePage                         14578 non-null  float64\n",
      " 1   HomePage_Duration                14581 non-null  float64\n",
      " 2   LandingPage                      14578 non-null  float64\n",
      " 3   LandingPage_Duration             14596 non-null  float64\n",
      " 4   ProductDescriptionPage           14608 non-null  float64\n",
      " 5   ProductDescriptionPage_Duration  14564 non-null  float64\n",
      " 6   GoogleMetric:Bounce Rates        14580 non-null  float64\n",
      " 7   GoogleMetric:Exit Rates          14602 non-null  float64\n",
      " 8   GoogleMetric:Page Values         14599 non-null  float64\n",
      " 9   SeasonalPurchase                 14581 non-null  float64\n",
      " 10  Month_SeasonalPurchase           14587 non-null  object \n",
      " 11  OS                               14597 non-null  float64\n",
      " 12  SearchEngine                     14609 non-null  float64\n",
      " 13  Zone                             14614 non-null  float64\n",
      " 14  Type of Traffic                  14588 non-null  float64\n",
      " 15  CustomerType                     14587 non-null  object \n",
      " 16  Gender                           14586 non-null  object \n",
      " 17  Cookies Setting                  14587 non-null  object \n",
      " 18  Education                        14595 non-null  object \n",
      " 19  Marital Status                   14601 non-null  object \n",
      " 20  WeekendPurchase                  14610 non-null  float64\n",
      " 21  Made_Purchase                    14731 non-null  bool   \n",
      "dtypes: bool(1), float64(15), object(6)\n",
      "memory usage: 2.4+ MB\n"
     ]
    }
   ],
   "source": [
    "data.info()"
   ]
  },
  {
   "cell_type": "markdown",
   "id": "658ce026",
   "metadata": {
    "id": "0CkaBwMejtnD",
    "papermill": {
     "duration": 0.013052,
     "end_time": "2023-03-30T16:54:06.942627",
     "exception": false,
     "start_time": "2023-03-30T16:54:06.929575",
     "status": "completed"
    },
    "tags": []
   },
   "source": [
    "We observe that:\n",
    "\n",
    "\n",
    "1.   There are 14,731 entries/rows and 22 columns in the dataset\n",
    "1.   Apart from the Target Variable i.e. 'Made_Purchase', all the other features contain missing values\n",
    "2.   'Month_SeasonalPurchase', 'CustomerType', 'Gender', 'Cookies Setting', 'Education', 'Marital Status' are categorical features\n",
    "2.   All the other features are numerical encoded as floating point numbers\n",
    "\n"
   ]
  },
  {
   "cell_type": "code",
   "execution_count": 7,
   "id": "50fd2fdb",
   "metadata": {
    "execution": {
     "iopub.execute_input": "2023-03-30T16:54:06.971546Z",
     "iopub.status.busy": "2023-03-30T16:54:06.970406Z",
     "iopub.status.idle": "2023-03-30T16:54:07.022795Z",
     "shell.execute_reply": "2023-03-30T16:54:07.020814Z"
    },
    "id": "iVWcB6wRELZn",
    "outputId": "055f5d69-8f25-458d-b334-d347acfa3110",
    "papermill": {
     "duration": 0.06904,
     "end_time": "2023-03-30T16:54:07.025497",
     "exception": false,
     "start_time": "2023-03-30T16:54:06.956457",
     "status": "completed"
    },
    "tags": []
   },
   "outputs": [
    {
     "name": "stdout",
     "output_type": "stream",
     "text": [
      "0.0     6977\n",
      "1.0     1580\n",
      "2.0     1264\n",
      "3.0     1114\n",
      "4.0      882\n",
      "5.0      700\n",
      "6.0      485\n",
      "7.0      385\n",
      "8.0      303\n",
      "9.0      252\n",
      "10.0     180\n",
      "11.0     111\n",
      "12.0     101\n",
      "13.0      60\n",
      "14.0      56\n",
      "15.0      41\n",
      "16.0      22\n",
      "17.0      20\n",
      "18.0      14\n",
      "19.0       7\n",
      "22.0       7\n",
      "23.0       6\n",
      "24.0       3\n",
      "21.0       3\n",
      "20.0       3\n",
      "27.0       1\n",
      "26.0       1\n",
      "Name: HomePage, dtype: int64\n",
      "---------------------------------------------------------------------------\n",
      "0.000000      7130\n",
      "4.000000        76\n",
      "5.000000        62\n",
      "11.000000       55\n",
      "6.000000        49\n",
      "              ... \n",
      "405.550000       1\n",
      "101.851111       1\n",
      "218.966667       1\n",
      "291.235714       1\n",
      "168.700000       1\n",
      "Name: HomePage_Duration, Length: 2844, dtype: int64\n",
      "---------------------------------------------------------------------------\n",
      "0.0     11525\n",
      "1.0      1206\n",
      "2.0       859\n",
      "3.0       452\n",
      "4.0       239\n",
      "5.0       119\n",
      "6.0        89\n",
      "7.0        40\n",
      "8.0        13\n",
      "9.0        12\n",
      "10.0        9\n",
      "12.0        5\n",
      "13.0        4\n",
      "14.0        2\n",
      "16.0        2\n",
      "11.0        1\n",
      "24.0        1\n",
      "Name: LandingPage, dtype: int64\n",
      "---------------------------------------------------------------------------\n",
      "0.000000      11804\n",
      "13.000000        35\n",
      "10.000000        34\n",
      "9.000000         33\n",
      "11.000000        30\n",
      "              ...  \n",
      "181.722222        1\n",
      "147.500000        1\n",
      "341.333333        1\n",
      "126.750000        1\n",
      "103.166667        1\n",
      "Name: LandingPage_Duration, Length: 1084, dtype: int64\n",
      "---------------------------------------------------------------------------\n",
      "1.0      785\n",
      "2.0      564\n",
      "3.0      554\n",
      "6.0      506\n",
      "4.0      501\n",
      "        ... \n",
      "423.0      1\n",
      "275.0      1\n",
      "225.0      1\n",
      "517.0      1\n",
      "374.0      1\n",
      "Name: ProductDescriptionPage, Length: 294, dtype: int64\n",
      "---------------------------------------------------------------------------\n",
      "0.000000       957\n",
      "17.000000       27\n",
      "8.000000        21\n",
      "11.000000       21\n",
      "7.000000        20\n",
      "              ... \n",
      "1510.383333      1\n",
      "1475.608427      1\n",
      "5046.056667      1\n",
      "269.960000       1\n",
      "271.716667       1\n",
      "Name: ProductDescriptionPage_Duration, Length: 7933, dtype: int64\n",
      "---------------------------------------------------------------------------\n",
      "0.000000    6409\n",
      "0.200000     895\n",
      "0.066667     160\n",
      "0.050000     135\n",
      "0.028571     132\n",
      "            ... \n",
      "0.040351       1\n",
      "0.080838       1\n",
      "0.023457       1\n",
      "0.107692       1\n",
      "0.068293       1\n",
      "Name: GoogleMetric:Bounce Rates, Length: 1628, dtype: int64\n",
      "---------------------------------------------------------------------------\n",
      "0.200000    913\n",
      "0.050000    410\n",
      "0.100000    404\n",
      "0.033333    339\n",
      "0.066667    313\n",
      "           ... \n",
      "0.027551      1\n",
      "0.071984      1\n",
      "0.047380      1\n",
      "0.007912      1\n",
      "0.070139      1\n",
      "Name: GoogleMetric:Exit Rates, Length: 4051, dtype: int64\n",
      "---------------------------------------------------------------------------\n",
      "0.000000     11787\n",
      "42.293068        5\n",
      "53.988000        5\n",
      "14.759436        4\n",
      "10.485333        4\n",
      "             ...  \n",
      "83.101143        1\n",
      "87.306958        1\n",
      "2.395283         1\n",
      "71.488000        1\n",
      "82.432635        1\n",
      "Name: GoogleMetric:Page Values, Length: 2120, dtype: int64\n",
      "---------------------------------------------------------------------------\n",
      "0.0    13034\n",
      "0.6      427\n",
      "0.8      398\n",
      "0.4      313\n",
      "0.2      218\n",
      "1.0      191\n",
      "Name: SeasonalPurchase, dtype: int64\n",
      "---------------------------------------------------------------------------\n",
      "May     4121\n",
      "Nov     3439\n",
      "Mar     2300\n",
      "Dec     2013\n",
      "Oct      628\n",
      "Sep      519\n",
      "Aug      510\n",
      "Jul      487\n",
      "June     349\n",
      "Feb      221\n",
      "Name: Month_SeasonalPurchase, dtype: int64\n",
      "---------------------------------------------------------------------------\n",
      "2.0    7832\n",
      "1.0    3072\n",
      "3.0    2987\n",
      "4.0     572\n",
      "8.0      96\n",
      "6.0      26\n",
      "7.0       6\n",
      "5.0       6\n",
      "Name: OS, dtype: int64\n",
      "---------------------------------------------------------------------------\n",
      "2.0     9382\n",
      "1.0     2959\n",
      "4.0      879\n",
      "5.0      539\n",
      "6.0      211\n",
      "10.0     200\n",
      "8.0      154\n",
      "3.0      127\n",
      "13.0      73\n",
      "7.0       69\n",
      "12.0       9\n",
      "11.0       6\n",
      "9.0        1\n",
      "Name: SearchEngine, dtype: int64\n",
      "---------------------------------------------------------------------------\n",
      "1.0    5648\n",
      "3.0    2853\n",
      "4.0    1374\n",
      "2.0    1353\n",
      "6.0     970\n",
      "7.0     943\n",
      "9.0     601\n",
      "8.0     506\n",
      "5.0     366\n",
      "Name: Zone, dtype: int64\n",
      "---------------------------------------------------------------------------\n",
      "2.0     4553\n",
      "1.0     2919\n",
      "3.0     2463\n",
      "4.0     1300\n",
      "13.0     930\n",
      "10.0     546\n",
      "6.0      505\n",
      "8.0      388\n",
      "11.0     284\n",
      "5.0      284\n",
      "20.0     225\n",
      "9.0       52\n",
      "15.0      44\n",
      "7.0       42\n",
      "19.0      20\n",
      "14.0      14\n",
      "18.0      13\n",
      "16.0       4\n",
      "12.0       1\n",
      "17.0       1\n",
      "Name: Type of Traffic, dtype: int64\n",
      "---------------------------------------------------------------------------\n",
      "Returning_Visitor    12550\n",
      "New_Visitor           1925\n",
      "Other                  112\n",
      "Name: CustomerType, dtype: int64\n",
      "---------------------------------------------------------------------------\n",
      "Not Specified    4971\n",
      "Female           4829\n",
      "Male             4786\n",
      "Name: Gender, dtype: int64\n",
      "---------------------------------------------------------------------------\n",
      "Deny        4964\n",
      "Required    4867\n",
      "ALL         4756\n",
      "Name: Cookies Setting, dtype: int64\n",
      "---------------------------------------------------------------------------\n",
      "Others           3726\n",
      "Graduate         3691\n",
      "Diploma          3653\n",
      "Not Specified    3525\n",
      "Name: Education, dtype: int64\n",
      "---------------------------------------------------------------------------\n",
      "Other      4952\n",
      "Single     4919\n",
      "Married    4730\n",
      "Name: Marital Status, dtype: int64\n",
      "---------------------------------------------------------------------------\n",
      "0.0    11189\n",
      "1.0     3421\n",
      "Name: WeekendPurchase, dtype: int64\n",
      "---------------------------------------------------------------------------\n",
      "False    9065\n",
      "True     5666\n",
      "Name: Made_Purchase, dtype: int64\n",
      "---------------------------------------------------------------------------\n"
     ]
    }
   ],
   "source": [
    "for i in data.columns:\n",
    "  print(data[i].value_counts())\n",
    "  print(\"---------------\"*5)"
   ]
  },
  {
   "cell_type": "code",
   "execution_count": 8,
   "id": "d0ea6ed7",
   "metadata": {
    "execution": {
     "iopub.execute_input": "2023-03-30T16:54:07.055438Z",
     "iopub.status.busy": "2023-03-30T16:54:07.054891Z",
     "iopub.status.idle": "2023-03-30T16:54:07.061034Z",
     "shell.execute_reply": "2023-03-30T16:54:07.059847Z"
    },
    "id": "sA_3gD7xFHyn",
    "papermill": {
     "duration": 0.02322,
     "end_time": "2023-03-30T16:54:07.062995",
     "exception": false,
     "start_time": "2023-03-30T16:54:07.039775",
     "status": "completed"
    },
    "tags": []
   },
   "outputs": [],
   "source": [
    "cat_shown_as_num = ['OS', 'SearchEngine', 'Zone', 'Type of Traffic', 'WeekendPurchase']"
   ]
  },
  {
   "cell_type": "markdown",
   "id": "ba1773e7",
   "metadata": {
    "id": "ew4-9rKFznZJ",
    "papermill": {
     "duration": 0.011852,
     "end_time": "2023-03-30T16:54:07.087506",
     "exception": false,
     "start_time": "2023-03-30T16:54:07.075654",
     "status": "completed"
    },
    "tags": []
   },
   "source": [
    "## Numerical Features Exploration"
   ]
  },
  {
   "cell_type": "markdown",
   "id": "bb792237",
   "metadata": {
    "id": "lMWz5XBakwYI",
    "papermill": {
     "duration": 0.011803,
     "end_time": "2023-03-30T16:54:07.111446",
     "exception": false,
     "start_time": "2023-03-30T16:54:07.099643",
     "status": "completed"
    },
    "tags": []
   },
   "source": [
    "Let's look at the distribution of these features and target by plotting their histograms"
   ]
  },
  {
   "cell_type": "code",
   "execution_count": 9,
   "id": "b27c6541",
   "metadata": {
    "execution": {
     "iopub.execute_input": "2023-03-30T16:54:07.142531Z",
     "iopub.status.busy": "2023-03-30T16:54:07.140823Z",
     "iopub.status.idle": "2023-03-30T16:54:09.893299Z",
     "shell.execute_reply": "2023-03-30T16:54:09.892487Z"
    },
    "id": "f1lYUuk5jSqp",
    "outputId": "ded5cb63-f20e-4da8-f75e-9559ddbc4ffa",
    "papermill": {
     "duration": 2.771043,
     "end_time": "2023-03-30T16:54:09.895179",
     "exception": false,
     "start_time": "2023-03-30T16:54:07.124136",
     "status": "completed"
    },
    "tags": []
   },
   "outputs": [
    {
     "data": {
      "image/png": "[encoded data removed]",
      "text/plain": [
       "<Figure size 1440x1080 with 16 Axes>"
      ]
     },
     "metadata": {
      "needs_background": "light"
     },
     "output_type": "display_data"
    }
   ],
   "source": [
    "data.hist(figsize=(20,15), bins=30, edgecolor='black')\n",
    "plt.subplots_adjust(hspace=0.7, wspace=0.4) "
   ]
  },
  {
   "cell_type": "markdown",
   "id": "fec29765",
   "metadata": {
    "id": "RPyNayr3l5OI",
    "papermill": {
     "duration": 0.012016,
     "end_time": "2023-03-30T16:54:09.919671",
     "exception": false,
     "start_time": "2023-03-30T16:54:09.907655",
     "status": "completed"
    },
    "tags": []
   },
   "source": [
    "Observations:\n",
    "\n",
    "\n",
    "1.   All the numerical features except 'WeekendPurchase' appear to follow a similar distribution with a long tail on right\n",
    "1.   'GoogleMetric:Bounce Rates' and 'GoogleMetric:Exit Rates' have some spikes on their right tail. Relevant outlier handling should be performed\n",
    "2.   'OS', 'SearchEngine', 'Zone', 'Type of Traffic' and 'WeekendPurchase' look like a categorical feature encoded as a numerical feature as all of them have integer values and their interpretation would make more sense if they are categorical"
   ]
  },
  {
   "cell_type": "markdown",
   "id": "bbf4a7aa",
   "metadata": {
    "id": "8NO1i8oNniAd",
    "papermill": {
     "duration": 0.012216,
     "end_time": "2023-03-30T16:54:09.944239",
     "exception": false,
     "start_time": "2023-03-30T16:54:09.932023",
     "status": "completed"
    },
    "tags": []
   },
   "source": [
    "Let's look at some statistics of these features and target variables"
   ]
  },
  {
   "cell_type": "code",
   "execution_count": 10,
   "id": "7bece4e8",
   "metadata": {
    "execution": {
     "iopub.execute_input": "2023-03-30T16:54:09.971319Z",
     "iopub.status.busy": "2023-03-30T16:54:09.970983Z",
     "iopub.status.idle": "2023-03-30T16:54:10.024149Z",
     "shell.execute_reply": "2023-03-30T16:54:10.023507Z"
    },
    "id": "GcS06XcplRXs",
    "outputId": "9134d543-0bd4-4dca-cf8d-0f3a74577805",
    "papermill": {
     "duration": 0.068961,
     "end_time": "2023-03-30T16:54:10.026103",
     "exception": false,
     "start_time": "2023-03-30T16:54:09.957142",
     "status": "completed"
    },
    "tags": []
   },
   "outputs": [
    {
     "data": {
      "text/html": [
       "<div>\n",
       "<style scoped>\n",
       "    .dataframe tbody tr th:only-of-type {\n",
       "        vertical-align: middle;\n",
       "    }\n",
       "\n",
       "    .dataframe tbody tr th {\n",
       "        vertical-align: top;\n",
       "    }\n",
       "\n",
       "    .dataframe thead th {\n",
       "        text-align: right;\n",
       "    }\n",
       "</style>\n",
       "<table border=\"1\" class=\"dataframe\">\n",
       "  <thead>\n",
       "    <tr style=\"text-align: right;\">\n",
       "      <th></th>\n",
       "      <th>HomePage</th>\n",
       "      <th>HomePage_Duration</th>\n",
       "      <th>LandingPage</th>\n",
       "      <th>LandingPage_Duration</th>\n",
       "      <th>ProductDescriptionPage</th>\n",
       "      <th>ProductDescriptionPage_Duration</th>\n",
       "      <th>GoogleMetric:Bounce Rates</th>\n",
       "      <th>GoogleMetric:Exit Rates</th>\n",
       "      <th>GoogleMetric:Page Values</th>\n",
       "      <th>SeasonalPurchase</th>\n",
       "      <th>OS</th>\n",
       "      <th>SearchEngine</th>\n",
       "      <th>Zone</th>\n",
       "      <th>Type of Traffic</th>\n",
       "      <th>WeekendPurchase</th>\n",
       "    </tr>\n",
       "  </thead>\n",
       "  <tbody>\n",
       "    <tr>\n",
       "      <th>count</th>\n",
       "      <td>14578.000000</td>\n",
       "      <td>14581.000000</td>\n",
       "      <td>14578.000000</td>\n",
       "      <td>14596.000000</td>\n",
       "      <td>14608.000000</td>\n",
       "      <td>14564.000000</td>\n",
       "      <td>14580.000000</td>\n",
       "      <td>14602.000000</td>\n",
       "      <td>14599.000000</td>\n",
       "      <td>14581.000000</td>\n",
       "      <td>14597.000000</td>\n",
       "      <td>14609.000000</td>\n",
       "      <td>14614.000000</td>\n",
       "      <td>14588.000000</td>\n",
       "      <td>14610.000000</td>\n",
       "    </tr>\n",
       "    <tr>\n",
       "      <th>mean</th>\n",
       "      <td>2.250240</td>\n",
       "      <td>79.300762</td>\n",
       "      <td>0.490739</td>\n",
       "      <td>33.455943</td>\n",
       "      <td>31.559488</td>\n",
       "      <td>1184.346084</td>\n",
       "      <td>0.023366</td>\n",
       "      <td>0.044664</td>\n",
       "      <td>4.812620</td>\n",
       "      <td>0.064083</td>\n",
       "      <td>2.122422</td>\n",
       "      <td>2.356629</td>\n",
       "      <td>3.155673</td>\n",
       "      <td>4.090143</td>\n",
       "      <td>0.234155</td>\n",
       "    </tr>\n",
       "    <tr>\n",
       "      <th>std</th>\n",
       "      <td>3.288042</td>\n",
       "      <td>179.374699</td>\n",
       "      <td>1.252376</td>\n",
       "      <td>140.146256</td>\n",
       "      <td>44.897089</td>\n",
       "      <td>2009.496307</td>\n",
       "      <td>0.050011</td>\n",
       "      <td>0.049912</td>\n",
       "      <td>16.887366</td>\n",
       "      <td>0.202583</td>\n",
       "      <td>0.914404</td>\n",
       "      <td>1.721823</td>\n",
       "      <td>2.405155</td>\n",
       "      <td>4.040147</td>\n",
       "      <td>0.423484</td>\n",
       "    </tr>\n",
       "    <tr>\n",
       "      <th>min</th>\n",
       "      <td>0.000000</td>\n",
       "      <td>0.000000</td>\n",
       "      <td>0.000000</td>\n",
       "      <td>0.000000</td>\n",
       "      <td>0.000000</td>\n",
       "      <td>0.000000</td>\n",
       "      <td>0.000000</td>\n",
       "      <td>0.000000</td>\n",
       "      <td>0.000000</td>\n",
       "      <td>0.000000</td>\n",
       "      <td>1.000000</td>\n",
       "      <td>1.000000</td>\n",
       "      <td>1.000000</td>\n",
       "      <td>1.000000</td>\n",
       "      <td>0.000000</td>\n",
       "    </tr>\n",
       "    <tr>\n",
       "      <th>25%</th>\n",
       "      <td>0.000000</td>\n",
       "      <td>0.000000</td>\n",
       "      <td>0.000000</td>\n",
       "      <td>0.000000</td>\n",
       "      <td>7.000000</td>\n",
       "      <td>173.187500</td>\n",
       "      <td>0.000000</td>\n",
       "      <td>0.014502</td>\n",
       "      <td>0.000000</td>\n",
       "      <td>0.000000</td>\n",
       "      <td>2.000000</td>\n",
       "      <td>2.000000</td>\n",
       "      <td>1.000000</td>\n",
       "      <td>2.000000</td>\n",
       "      <td>0.000000</td>\n",
       "    </tr>\n",
       "    <tr>\n",
       "      <th>50%</th>\n",
       "      <td>1.000000</td>\n",
       "      <td>5.000000</td>\n",
       "      <td>0.000000</td>\n",
       "      <td>0.000000</td>\n",
       "      <td>17.500000</td>\n",
       "      <td>584.333333</td>\n",
       "      <td>0.003478</td>\n",
       "      <td>0.026406</td>\n",
       "      <td>0.000000</td>\n",
       "      <td>0.000000</td>\n",
       "      <td>2.000000</td>\n",
       "      <td>2.000000</td>\n",
       "      <td>3.000000</td>\n",
       "      <td>2.000000</td>\n",
       "      <td>0.000000</td>\n",
       "    </tr>\n",
       "    <tr>\n",
       "      <th>75%</th>\n",
       "      <td>3.000000</td>\n",
       "      <td>91.000000</td>\n",
       "      <td>0.000000</td>\n",
       "      <td>0.000000</td>\n",
       "      <td>38.000000</td>\n",
       "      <td>1434.255128</td>\n",
       "      <td>0.018182</td>\n",
       "      <td>0.050000</td>\n",
       "      <td>0.000000</td>\n",
       "      <td>0.000000</td>\n",
       "      <td>3.000000</td>\n",
       "      <td>2.000000</td>\n",
       "      <td>4.000000</td>\n",
       "      <td>4.000000</td>\n",
       "      <td>0.000000</td>\n",
       "    </tr>\n",
       "    <tr>\n",
       "      <th>max</th>\n",
       "      <td>27.000000</td>\n",
       "      <td>3398.750000</td>\n",
       "      <td>24.000000</td>\n",
       "      <td>2549.375000</td>\n",
       "      <td>705.000000</td>\n",
       "      <td>63973.522230</td>\n",
       "      <td>0.200000</td>\n",
       "      <td>0.200000</td>\n",
       "      <td>361.763742</td>\n",
       "      <td>1.000000</td>\n",
       "      <td>8.000000</td>\n",
       "      <td>13.000000</td>\n",
       "      <td>9.000000</td>\n",
       "      <td>20.000000</td>\n",
       "      <td>1.000000</td>\n",
       "    </tr>\n",
       "  </tbody>\n",
       "</table>\n",
       "</div>"
      ],
      "text/plain": [
       "           HomePage  HomePage_Duration   LandingPage  LandingPage_Duration  \\\n",
       "count  14578.000000       14581.000000  14578.000000          14596.000000   \n",
       "mean       2.250240          79.300762      0.490739             33.455943   \n",
       "std        3.288042         179.374699      1.252376            140.146256   \n",
       "min        0.000000           0.000000      0.000000              0.000000   \n",
       "25%        0.000000           0.000000      0.000000              0.000000   \n",
       "50%        1.000000           5.000000      0.000000              0.000000   \n",
       "75%        3.000000          91.000000      0.000000              0.000000   \n",
       "max       27.000000        3398.750000     24.000000           2549.375000   \n",
       "\n",
       "       ProductDescriptionPage  ProductDescriptionPage_Duration  \\\n",
       "count            14608.000000                     14564.000000   \n",
       "mean                31.559488                      1184.346084   \n",
       "std                 44.897089                      2009.496307   \n",
       "min                  0.000000                         0.000000   \n",
       "25%                  7.000000                       173.187500   \n",
       "50%                 17.500000                       584.333333   \n",
       "75%                 38.000000                      1434.255128   \n",
       "max                705.000000                     63973.522230   \n",
       "\n",
       "       GoogleMetric:Bounce Rates  GoogleMetric:Exit Rates  \\\n",
       "count               14580.000000             14602.000000   \n",
       "mean                    0.023366                 0.044664   \n",
       "std                     0.050011                 0.049912   \n",
       "min                     0.000000                 0.000000   \n",
       "25%                     0.000000                 0.014502   \n",
       "50%                     0.003478                 0.026406   \n",
       "75%                     0.018182                 0.050000   \n",
       "max                     0.200000                 0.200000   \n",
       "\n",
       "       GoogleMetric:Page Values  SeasonalPurchase            OS  SearchEngine  \\\n",
       "count              14599.000000      14581.000000  14597.000000  14609.000000   \n",
       "mean                   4.812620          0.064083      2.122422      2.356629   \n",
       "std                   16.887366          0.202583      0.914404      1.721823   \n",
       "min                    0.000000          0.000000      1.000000      1.000000   \n",
       "25%                    0.000000          0.000000      2.000000      2.000000   \n",
       "50%                    0.000000          0.000000      2.000000      2.000000   \n",
       "75%                    0.000000          0.000000      3.000000      2.000000   \n",
       "max                  361.763742          1.000000      8.000000     13.000000   \n",
       "\n",
       "               Zone  Type of Traffic  WeekendPurchase  \n",
       "count  14614.000000     14588.000000     14610.000000  \n",
       "mean       3.155673         4.090143         0.234155  \n",
       "std        2.405155         4.040147         0.423484  \n",
       "min        1.000000         1.000000         0.000000  \n",
       "25%        1.000000         2.000000         0.000000  \n",
       "50%        3.000000         2.000000         0.000000  \n",
       "75%        4.000000         4.000000         0.000000  \n",
       "max        9.000000        20.000000         1.000000  "
      ]
     },
     "execution_count": 10,
     "metadata": {},
     "output_type": "execute_result"
    }
   ],
   "source": [
    "data.describe()"
   ]
  },
  {
   "cell_type": "markdown",
   "id": "6c7d1c54",
   "metadata": {
    "id": "qZnHDaOpxbXv",
    "papermill": {
     "duration": 0.012282,
     "end_time": "2023-03-30T16:54:10.051411",
     "exception": false,
     "start_time": "2023-03-30T16:54:10.039129",
     "status": "completed"
    },
    "tags": []
   },
   "source": [
    "Almost every feature has significant differences on the upper (max value and 75th percentile value) and/or lower (min value and 25th percentile value) sides of the dataset"
   ]
  },
  {
   "cell_type": "code",
   "execution_count": 11,
   "id": "51db7d8b",
   "metadata": {
    "execution": {
     "iopub.execute_input": "2023-03-30T16:54:10.078866Z",
     "iopub.status.busy": "2023-03-30T16:54:10.078369Z",
     "iopub.status.idle": "2023-03-30T16:54:10.455560Z",
     "shell.execute_reply": "2023-03-30T16:54:10.454679Z"
    },
    "id": "_AHrO_IjpE4I",
    "outputId": "82613db4-4c25-4640-afc2-6394672d58ac",
    "papermill": {
     "duration": 0.39325,
     "end_time": "2023-03-30T16:54:10.457386",
     "exception": false,
     "start_time": "2023-03-30T16:54:10.064136",
     "status": "completed"
    },
    "tags": []
   },
   "outputs": [
    {
     "data": {
      "text/plain": [
       "<AxesSubplot:>"
      ]
     },
     "execution_count": 11,
     "metadata": {},
     "output_type": "execute_result"
    },
    {
     "data": {
      "image/png": "[encoded data removed]",
      "text/plain": [
       "<Figure size 432x288 with 2 Axes>"
      ]
     },
     "metadata": {
      "needs_background": "light"
     },
     "output_type": "display_data"
    }
   ],
   "source": [
    "sns.heatmap(data.corr())"
   ]
  },
  {
   "cell_type": "markdown",
   "id": "64ed88e9",
   "metadata": {
    "id": "tqiBLWmnyFV4",
    "papermill": {
     "duration": 0.0135,
     "end_time": "2023-03-30T16:54:10.485228",
     "exception": false,
     "start_time": "2023-03-30T16:54:10.471728",
     "status": "completed"
    },
    "tags": []
   },
   "source": [
    "A high positive correlation is observed between GoogleMetric Bounce Rates and Exit Rates which makes sense when you refer their definition"
   ]
  },
  {
   "cell_type": "code",
   "execution_count": 12,
   "id": "64835aaa",
   "metadata": {
    "execution": {
     "iopub.execute_input": "2023-03-30T16:54:10.514884Z",
     "iopub.status.busy": "2023-03-30T16:54:10.514287Z",
     "iopub.status.idle": "2023-03-30T16:54:10.522777Z",
     "shell.execute_reply": "2023-03-30T16:54:10.521794Z"
    },
    "id": "LFxmbt5Uo6eV",
    "papermill": {
     "duration": 0.025772,
     "end_time": "2023-03-30T16:54:10.524873",
     "exception": false,
     "start_time": "2023-03-30T16:54:10.499101",
     "status": "completed"
    },
    "tags": []
   },
   "outputs": [],
   "source": [
    "num_cols = data.select_dtypes('float64').columns #Numerical Columns of the dataset\n",
    "cat_cols = data.select_dtypes('object').columns #Categorical Columns of the dataset "
   ]
  },
  {
   "cell_type": "code",
   "execution_count": 13,
   "id": "d7fda6bf",
   "metadata": {
    "execution": {
     "iopub.execute_input": "2023-03-30T16:54:10.554809Z",
     "iopub.status.busy": "2023-03-30T16:54:10.554423Z",
     "iopub.status.idle": "2023-03-30T16:54:11.959311Z",
     "shell.execute_reply": "2023-03-30T16:54:11.958159Z"
    },
    "id": "YUFNg2kdl6-T",
    "outputId": "10c68f4a-ba10-4c94-8f90-b38e3b3dd2ff",
    "papermill": {
     "duration": 1.422483,
     "end_time": "2023-03-30T16:54:11.961337",
     "exception": false,
     "start_time": "2023-03-30T16:54:10.538854",
     "status": "completed"
    },
    "tags": []
   },
   "outputs": [
    {
     "data": {
      "image/png": "[encoded data removed]",
      "text/plain": [
       "<Figure size 1800x2160 with 15 Axes>"
      ]
     },
     "metadata": {
      "needs_background": "light"
     },
     "output_type": "display_data"
    }
   ],
   "source": [
    "data[num_cols].plot(\n",
    "    kind='box', \n",
    "    subplots=True, \n",
    "    sharey=False, \n",
    "    figsize=(25, 30)\n",
    ")\n",
    "\n",
    "# increase spacing between subplots\n",
    "plt.subplots_adjust(wspace=2) \n",
    "plt.show()"
   ]
  },
  {
   "cell_type": "markdown",
   "id": "127392ee",
   "metadata": {
    "id": "YMZMGrFnyftA",
    "papermill": {
     "duration": 0.015094,
     "end_time": "2023-03-30T16:54:11.992595",
     "exception": false,
     "start_time": "2023-03-30T16:54:11.977501",
     "status": "completed"
    },
    "tags": []
   },
   "source": [
    "The above boxplots for all the numerical features confirms our suspicion of extreme outliers in the dataset"
   ]
  },
  {
   "cell_type": "markdown",
   "id": "d99564a8",
   "metadata": {
    "id": "aCONyn--zvJ5",
    "papermill": {
     "duration": 0.015192,
     "end_time": "2023-03-30T16:54:12.023584",
     "exception": false,
     "start_time": "2023-03-30T16:54:12.008392",
     "status": "completed"
    },
    "tags": []
   },
   "source": [
    "## Categorical Features Exploration"
   ]
  },
  {
   "cell_type": "code",
   "execution_count": 14,
   "id": "66ab54ae",
   "metadata": {
    "execution": {
     "iopub.execute_input": "2023-03-30T16:54:12.056498Z",
     "iopub.status.busy": "2023-03-30T16:54:12.056077Z",
     "iopub.status.idle": "2023-03-30T16:54:12.084077Z",
     "shell.execute_reply": "2023-03-30T16:54:12.082942Z"
    },
    "id": "E_lsaHS_pem3",
    "outputId": "6db4b903-22e9-4387-993a-dfe3c1dbc5de",
    "papermill": {
     "duration": 0.046909,
     "end_time": "2023-03-30T16:54:12.086067",
     "exception": false,
     "start_time": "2023-03-30T16:54:12.039158",
     "status": "completed"
    },
    "tags": []
   },
   "outputs": [
    {
     "data": {
      "text/html": [
       "<div>\n",
       "<style scoped>\n",
       "    .dataframe tbody tr th:only-of-type {\n",
       "        vertical-align: middle;\n",
       "    }\n",
       "\n",
       "    .dataframe tbody tr th {\n",
       "        vertical-align: top;\n",
       "    }\n",
       "\n",
       "    .dataframe thead th {\n",
       "        text-align: right;\n",
       "    }\n",
       "</style>\n",
       "<table border=\"1\" class=\"dataframe\">\n",
       "  <thead>\n",
       "    <tr style=\"text-align: right;\">\n",
       "      <th></th>\n",
       "      <th>Month_SeasonalPurchase</th>\n",
       "      <th>CustomerType</th>\n",
       "      <th>Gender</th>\n",
       "      <th>Cookies Setting</th>\n",
       "      <th>Education</th>\n",
       "      <th>Marital Status</th>\n",
       "    </tr>\n",
       "  </thead>\n",
       "  <tbody>\n",
       "    <tr>\n",
       "      <th>count</th>\n",
       "      <td>14587</td>\n",
       "      <td>14587</td>\n",
       "      <td>14586</td>\n",
       "      <td>14587</td>\n",
       "      <td>14595</td>\n",
       "      <td>14601</td>\n",
       "    </tr>\n",
       "    <tr>\n",
       "      <th>unique</th>\n",
       "      <td>10</td>\n",
       "      <td>3</td>\n",
       "      <td>3</td>\n",
       "      <td>3</td>\n",
       "      <td>4</td>\n",
       "      <td>3</td>\n",
       "    </tr>\n",
       "    <tr>\n",
       "      <th>top</th>\n",
       "      <td>May</td>\n",
       "      <td>Returning_Visitor</td>\n",
       "      <td>Not Specified</td>\n",
       "      <td>Deny</td>\n",
       "      <td>Others</td>\n",
       "      <td>Other</td>\n",
       "    </tr>\n",
       "    <tr>\n",
       "      <th>freq</th>\n",
       "      <td>4121</td>\n",
       "      <td>12550</td>\n",
       "      <td>4971</td>\n",
       "      <td>4964</td>\n",
       "      <td>3726</td>\n",
       "      <td>4952</td>\n",
       "    </tr>\n",
       "  </tbody>\n",
       "</table>\n",
       "</div>"
      ],
      "text/plain": [
       "       Month_SeasonalPurchase       CustomerType         Gender  \\\n",
       "count                   14587              14587          14586   \n",
       "unique                     10                  3              3   \n",
       "top                       May  Returning_Visitor  Not Specified   \n",
       "freq                     4121              12550           4971   \n",
       "\n",
       "       Cookies Setting Education Marital Status  \n",
       "count            14587     14595          14601  \n",
       "unique               3         4              3  \n",
       "top               Deny    Others          Other  \n",
       "freq              4964      3726           4952  "
      ]
     },
     "execution_count": 14,
     "metadata": {},
     "output_type": "execute_result"
    }
   ],
   "source": [
    "data.describe(include='object')"
   ]
  },
  {
   "cell_type": "markdown",
   "id": "bd5a73b9",
   "metadata": {
    "id": "kpeExof3zGvK",
    "papermill": {
     "duration": 0.015134,
     "end_time": "2023-03-30T16:54:12.116775",
     "exception": false,
     "start_time": "2023-03-30T16:54:12.101641",
     "status": "completed"
    },
    "tags": []
   },
   "source": [
    "Now we'll explore the categorical data"
   ]
  },
  {
   "cell_type": "code",
   "execution_count": 15,
   "id": "c0c4058d",
   "metadata": {
    "execution": {
     "iopub.execute_input": "2023-03-30T16:54:12.148736Z",
     "iopub.status.busy": "2023-03-30T16:54:12.148389Z",
     "iopub.status.idle": "2023-03-30T16:54:12.986393Z",
     "shell.execute_reply": "2023-03-30T16:54:12.985699Z"
    },
    "id": "KARSL6eGrhWR",
    "outputId": "44c13607-0ed3-4aa8-9c22-5db105a83bc5",
    "papermill": {
     "duration": 0.856263,
     "end_time": "2023-03-30T16:54:12.988255",
     "exception": false,
     "start_time": "2023-03-30T16:54:12.131992",
     "status": "completed"
    },
    "tags": []
   },
   "outputs": [
    {
     "data": {
      "image/png": "[encoded data removed]",
      "text/plain": [
       "<Figure size 432x288 with 1 Axes>"
      ]
     },
     "metadata": {
      "needs_background": "light"
     },
     "output_type": "display_data"
    },
    {
     "data": {
      "image/png": "[encoded data removed]",
      "text/plain": [
       "<Figure size 432x288 with 1 Axes>"
      ]
     },
     "metadata": {
      "needs_background": "light"
     },
     "output_type": "display_data"
    },
    {
     "data": {
      "image/png": "[encoded data removed]",
      "text/plain": [
       "<Figure size 432x288 with 1 Axes>"
      ]
     },
     "metadata": {
      "needs_background": "light"
     },
     "output_type": "display_data"
    },
    {
     "data": {
      "image/png": "[encoded data removed]",
      "text/plain": [
       "<Figure size 432x288 with 1 Axes>"
      ]
     },
     "metadata": {
      "needs_background": "light"
     },
     "output_type": "display_data"
    },
    {
     "data": {
      "image/png": "[encoded data removed]",
      "text/plain": [
       "<Figure size 432x288 with 1 Axes>"
      ]
     },
     "metadata": {
      "needs_background": "light"
     },
     "output_type": "display_data"
    },
    {
     "data": {
      "image/png": "[encoded data removed]",
      "text/plain": [
       "<Figure size 432x288 with 1 Axes>"
      ]
     },
     "metadata": {
      "needs_background": "light"
     },
     "output_type": "display_data"
    }
   ],
   "source": [
    "for i in cat_cols:\n",
    "  data[i].value_counts().plot(kind='bar', xlabel=i)\n",
    "  plt.show()"
   ]
  },
  {
   "cell_type": "code",
   "execution_count": 16,
   "id": "469cb8d5",
   "metadata": {
    "execution": {
     "iopub.execute_input": "2023-03-30T16:54:13.025562Z",
     "iopub.status.busy": "2023-03-30T16:54:13.024291Z",
     "iopub.status.idle": "2023-03-30T16:54:13.126121Z",
     "shell.execute_reply": "2023-03-30T16:54:13.125096Z"
    },
    "id": "oAVyQVKvs7sY",
    "outputId": "492273ef-6b9d-4106-c69a-2709325a3efa",
    "papermill": {
     "duration": 0.123183,
     "end_time": "2023-03-30T16:54:13.128540",
     "exception": false,
     "start_time": "2023-03-30T16:54:13.005357",
     "status": "completed"
    },
    "tags": []
   },
   "outputs": [
    {
     "data": {
      "text/plain": [
       "<AxesSubplot:xlabel='Made_Purchase'>"
      ]
     },
     "execution_count": 16,
     "metadata": {},
     "output_type": "execute_result"
    },
    {
     "data": {
      "image/png": "[encoded data removed]",
      "text/plain": [
       "<Figure size 432x288 with 1 Axes>"
      ]
     },
     "metadata": {
      "needs_background": "light"
     },
     "output_type": "display_data"
    }
   ],
   "source": [
    "data['Made_Purchase'].value_counts().plot(kind='bar', xlabel='Made_Purchase')"
   ]
  },
  {
   "cell_type": "markdown",
   "id": "97006a26",
   "metadata": {
    "id": "Aqy0o2O8zMdX",
    "papermill": {
     "duration": 0.017051,
     "end_time": "2023-03-30T16:54:13.163020",
     "exception": false,
     "start_time": "2023-03-30T16:54:13.145969",
     "status": "completed"
    },
    "tags": []
   },
   "source": [
    "The target variable is not balanced. An oversampling technique should be a better approach to balance the data since this is a small dataset"
   ]
  },
  {
   "cell_type": "markdown",
   "id": "d28cf007",
   "metadata": {
    "id": "ELQx0RjrtND-",
    "papermill": {
     "duration": 0.016729,
     "end_time": "2023-03-30T16:54:13.196780",
     "exception": false,
     "start_time": "2023-03-30T16:54:13.180051",
     "status": "completed"
    },
    "tags": []
   },
   "source": [
    "# Data Preprocessing"
   ]
  },
  {
   "cell_type": "markdown",
   "id": "765c2e91",
   "metadata": {
    "id": "iJRyPSwfz6s9",
    "papermill": {
     "duration": 0.01693,
     "end_time": "2023-03-30T16:54:13.231074",
     "exception": false,
     "start_time": "2023-03-30T16:54:13.214144",
     "status": "completed"
    },
    "tags": []
   },
   "source": [
    "## Splitting the Data into train and test"
   ]
  },
  {
   "cell_type": "code",
   "execution_count": 17,
   "id": "f99a4cfb",
   "metadata": {
    "execution": {
     "iopub.execute_input": "2023-03-30T16:54:13.267389Z",
     "iopub.status.busy": "2023-03-30T16:54:13.266994Z",
     "iopub.status.idle": "2023-03-30T16:54:13.277142Z",
     "shell.execute_reply": "2023-03-30T16:54:13.276006Z"
    },
    "id": "uFIRPKABuTNI",
    "outputId": "7608b81f-a5db-49b7-d863-ff798f8ad419",
    "papermill": {
     "duration": 0.030633,
     "end_time": "2023-03-30T16:54:13.279246",
     "exception": false,
     "start_time": "2023-03-30T16:54:13.248613",
     "status": "completed"
    },
    "tags": []
   },
   "outputs": [
    {
     "data": {
      "text/plain": [
       "0    False\n",
       "1    False\n",
       "2    False\n",
       "3    False\n",
       "4    False\n",
       "Name: Made_Purchase, dtype: bool"
      ]
     },
     "execution_count": 17,
     "metadata": {},
     "output_type": "execute_result"
    }
   ],
   "source": [
    "X = data.iloc[:, :-1]\n",
    "y = data['Made_Purchase']\n",
    "y.head()"
   ]
  },
  {
   "cell_type": "code",
   "execution_count": 18,
   "id": "16c1450d",
   "metadata": {
    "execution": {
     "iopub.execute_input": "2023-03-30T16:54:13.315450Z",
     "iopub.status.busy": "2023-03-30T16:54:13.315054Z",
     "iopub.status.idle": "2023-03-30T16:54:13.330327Z",
     "shell.execute_reply": "2023-03-30T16:54:13.329192Z"
    },
    "id": "_MnXkSFy5SbV",
    "outputId": "77968828-dab8-49ba-b520-1a6327de7ef4",
    "papermill": {
     "duration": 0.03599,
     "end_time": "2023-03-30T16:54:13.332636",
     "exception": false,
     "start_time": "2023-03-30T16:54:13.296646",
     "status": "completed"
    },
    "tags": []
   },
   "outputs": [
    {
     "data": {
      "text/plain": [
       "((11784, 21), (11784,), (2947, 21), (2947,))"
      ]
     },
     "execution_count": 18,
     "metadata": {},
     "output_type": "execute_result"
    }
   ],
   "source": [
    "X_train, X_test, y_train, y_test = train_test_split(X, y, random_state=0, test_size=0.2)\n",
    "X_train.shape, y_train.shape, X_test.shape, y_test.shape"
   ]
  },
  {
   "cell_type": "markdown",
   "id": "bb57cf27",
   "metadata": {
    "id": "kna89eRM0WZC",
    "papermill": {
     "duration": 0.017461,
     "end_time": "2023-03-30T16:54:13.367750",
     "exception": false,
     "start_time": "2023-03-30T16:54:13.350289",
     "status": "completed"
    },
    "tags": []
   },
   "source": [
    "## Pipeline Generation"
   ]
  },
  {
   "cell_type": "code",
   "execution_count": 19,
   "id": "cc992248",
   "metadata": {
    "execution": {
     "iopub.execute_input": "2023-03-30T16:54:13.406378Z",
     "iopub.status.busy": "2023-03-30T16:54:13.405268Z",
     "iopub.status.idle": "2023-03-30T16:54:13.414432Z",
     "shell.execute_reply": "2023-03-30T16:54:13.413738Z"
    },
    "id": "-uwvNwamut0V",
    "papermill": {
     "duration": 0.030623,
     "end_time": "2023-03-30T16:54:13.416778",
     "exception": false,
     "start_time": "2023-03-30T16:54:13.386155",
     "status": "completed"
    },
    "tags": []
   },
   "outputs": [],
   "source": [
    "#Combining all the categorical columns and numerical columns\n",
    "num_cols = [i for i in list(X_train.select_dtypes('float64').columns) if i not in cat_shown_as_num]\n",
    "original_cat_cols = list(X_train.select_dtypes('object').columns)\n",
    "combined_cat_cols = original_cat_cols + cat_shown_as_num"
   ]
  },
  {
   "cell_type": "markdown",
   "id": "8988e356",
   "metadata": {
    "id": "jRjLrW1Y0oRY",
    "papermill": {
     "duration": 0.01903,
     "end_time": "2023-03-30T16:54:13.453233",
     "exception": false,
     "start_time": "2023-03-30T16:54:13.434203",
     "status": "completed"
    },
    "tags": []
   },
   "source": [
    "Before making the pipeline, we need to balance the data"
   ]
  },
  {
   "cell_type": "code",
   "execution_count": 20,
   "id": "0b818c67",
   "metadata": {
    "execution": {
     "iopub.execute_input": "2023-03-30T16:54:13.497032Z",
     "iopub.status.busy": "2023-03-30T16:54:13.496334Z",
     "iopub.status.idle": "2023-03-30T16:54:15.749764Z",
     "shell.execute_reply": "2023-03-30T16:54:15.748841Z"
    },
    "id": "N22uwHJQHGfu",
    "papermill": {
     "duration": 2.275843,
     "end_time": "2023-03-30T16:54:15.752168",
     "exception": false,
     "start_time": "2023-03-30T16:54:13.476325",
     "status": "completed"
    },
    "tags": []
   },
   "outputs": [],
   "source": [
    "#In order to apply balancing techniques, data must not contain missing values\n",
    "num_impute = SimpleImputer(strategy='median')\n",
    "cat_impute = SimpleImputer(strategy='most_frequent')\n",
    "\n",
    "X_train[num_cols] = num_impute.fit_transform(X_train[num_cols])\n",
    "X_train[combined_cat_cols] = cat_impute.fit_transform(X_train[combined_cat_cols])\n",
    "\n",
    "#SMOTENC is selected as this appropriate to use when the data contains categorical features\n",
    "cat_cols_index = [i for i in range(len(X_train.columns)) if X_train.columns[i] in original_cat_cols]\n",
    "smote = SMOTENC(cat_cols_index, random_state=0)\n",
    "X_train_resampled, y_train_resampled = smote.fit_resample(X_train, y_train)"
   ]
  },
  {
   "cell_type": "markdown",
   "id": "e588d286",
   "metadata": {
    "id": "OjkhOUlV1IQu",
    "papermill": {
     "duration": 0.018102,
     "end_time": "2023-03-30T16:54:15.788253",
     "exception": false,
     "start_time": "2023-03-30T16:54:15.770151",
     "status": "completed"
    },
    "tags": []
   },
   "source": [
    "Three different preprocessing pipelines are prepared to handle Numerical Data, Categorical Data and Categorical Data which is shown as Numerical Data"
   ]
  },
  {
   "cell_type": "code",
   "execution_count": 21,
   "id": "7c1bdf47",
   "metadata": {
    "execution": {
     "iopub.execute_input": "2023-03-30T16:54:15.824583Z",
     "iopub.status.busy": "2023-03-30T16:54:15.823974Z",
     "iopub.status.idle": "2023-03-30T16:54:15.830582Z",
     "shell.execute_reply": "2023-03-30T16:54:15.829996Z"
    },
    "id": "dsY0JAXViJKY",
    "papermill": {
     "duration": 0.026888,
     "end_time": "2023-03-30T16:54:15.832359",
     "exception": false,
     "start_time": "2023-03-30T16:54:15.805471",
     "status": "completed"
    },
    "tags": []
   },
   "outputs": [],
   "source": [
    "num_pipeline = Pipeline([('selector', ColumnTransformer([('pass', 'passthrough', num_cols)])),\n",
    "                         ('imputer', SimpleImputer(strategy='median')),\n",
    "                         ('function_transform', FunctionTransformer(np.log1p))\n",
    "                         ])\n",
    "\n",
    "original_cat_pipeline = Pipeline([('selector', ColumnTransformer([('pass', 'passthrough', original_cat_cols)])),\n",
    "                         ('imputer', SimpleImputer(strategy='most_frequent')),\n",
    "                         ('encoder', OrdinalEncoder(handle_unknown='use_encoded_value', unknown_value=-1))])\n",
    "\n",
    "cat_shown_as_num_pipeline = Pipeline([('selector', ColumnTransformer([('pass', 'passthrough', cat_shown_as_num)])),\n",
    "                         ('imputer', SimpleImputer(strategy='most_frequent'))])\n"
   ]
  },
  {
   "cell_type": "code",
   "execution_count": 22,
   "id": "2c88c6f2",
   "metadata": {
    "execution": {
     "iopub.execute_input": "2023-03-30T16:54:15.868928Z",
     "iopub.status.busy": "2023-03-30T16:54:15.868428Z",
     "iopub.status.idle": "2023-03-30T16:54:15.873426Z",
     "shell.execute_reply": "2023-03-30T16:54:15.872786Z"
    },
    "id": "tlFsbQTJf6g3",
    "papermill": {
     "duration": 0.025389,
     "end_time": "2023-03-30T16:54:15.875268",
     "exception": false,
     "start_time": "2023-03-30T16:54:15.849879",
     "status": "completed"
    },
    "tags": []
   },
   "outputs": [],
   "source": [
    "data_pipe = Pipeline([('features', FeatureUnion([('num', num_pipeline),\n",
    "                                                ('cat', original_cat_pipeline),\n",
    "                                                ('cat_shown_as_num', cat_shown_as_num_pipeline)\n",
    "                                                ])),\n",
    "                     ('scaler', MinMaxScaler()),\n",
    "                     ('poly', PolynomialFeatures(degree=1))])"
   ]
  },
  {
   "cell_type": "markdown",
   "id": "9e2b4cd9",
   "metadata": {
    "id": "FYriRPTU1ct9",
    "papermill": {
     "duration": 0.017002,
     "end_time": "2023-03-30T16:54:15.909578",
     "exception": false,
     "start_time": "2023-03-30T16:54:15.892576",
     "status": "completed"
    },
    "tags": []
   },
   "source": [
    "#Model Building"
   ]
  },
  {
   "cell_type": "code",
   "execution_count": 23,
   "id": "343a90f7",
   "metadata": {
    "execution": {
     "iopub.execute_input": "2023-03-30T16:54:15.947415Z",
     "iopub.status.busy": "2023-03-30T16:54:15.946830Z",
     "iopub.status.idle": "2023-03-30T16:54:16.185100Z",
     "shell.execute_reply": "2023-03-30T16:54:16.183999Z"
    },
    "id": "GX4ZmEyDgyVH",
    "outputId": "4058d453-eab0-4e27-835a-e96958ac01cd",
    "papermill": {
     "duration": 0.260512,
     "end_time": "2023-03-30T16:54:16.187329",
     "exception": false,
     "start_time": "2023-03-30T16:54:15.926817",
     "status": "completed"
    },
    "tags": []
   },
   "outputs": [
    {
     "data": {
      "text/plain": [
       "(0.47106350995866214, 0.41958041958041964)"
      ]
     },
     "execution_count": 23,
     "metadata": {},
     "output_type": "execute_result"
    }
   ],
   "source": [
    "sgd_pipe = Pipeline([('features', FeatureUnion([('num', num_pipeline),\n",
    "                                                ('cat', original_cat_pipeline),\n",
    "                                                ('cat_shown_as_num', cat_shown_as_num_pipeline)\n",
    "                                                ])),\n",
    "                     ('scaler', MinMaxScaler()),\n",
    "                     ('poly', PolynomialFeatures(degree=1)),\n",
    "                     ('sgd', SGDClassifier(loss='log', max_iter=10, penalty='l1',alpha=0.001,\n",
    "                                               random_state=42, warm_start=True))])\n",
    "\n",
    "sgd_pipe.fit(X_train_resampled, y_train_resampled)\n",
    "f1_score(y_train_resampled, sgd_pipe.predict(X_train_resampled)), f1_score(y_test, sgd_pipe.predict(X_test))"
   ]
  },
  {
   "cell_type": "code",
   "execution_count": 24,
   "id": "e8a27d4a",
   "metadata": {
    "execution": {
     "iopub.execute_input": "2023-03-30T16:54:16.236386Z",
     "iopub.status.busy": "2023-03-30T16:54:16.235791Z",
     "iopub.status.idle": "2023-03-30T16:54:16.835121Z",
     "shell.execute_reply": "2023-03-30T16:54:16.834449Z"
    },
    "id": "hV7qdcGxZDNM",
    "outputId": "17e875a5-3421-4172-eb28-61db2091fb61",
    "papermill": {
     "duration": 0.626145,
     "end_time": "2023-03-30T16:54:16.836923",
     "exception": false,
     "start_time": "2023-03-30T16:54:16.210778",
     "status": "completed"
    },
    "tags": []
   },
   "outputs": [
    {
     "data": {
      "text/plain": [
       "(0.5084282460136674, 0.4223245109321058)"
      ]
     },
     "execution_count": 24,
     "metadata": {},
     "output_type": "execute_result"
    }
   ],
   "source": [
    "rf_pipe = Pipeline([('features', FeatureUnion([('num', num_pipeline),\n",
    "                                                ('cat', original_cat_pipeline),\n",
    "                                                ('cat_shown_as_num', cat_shown_as_num_pipeline)\n",
    "                                                ])),\n",
    "                      ('poly', PolynomialFeatures(degree=1)),\n",
    "                      ('scaler', MinMaxScaler()),\n",
    "                      ('rf', RandomForestClassifier(n_estimators=120, max_depth=2, max_features=0.3, max_samples=0.05))])\n",
    "\n",
    "rf_pipe.fit(X_train_resampled, y_train_resampled)\n",
    "f1_score(y_train_resampled, rf_pipe.predict(X_train_resampled)), f1_score(y_test, rf_pipe.predict(X_test))"
   ]
  },
  {
   "cell_type": "code",
   "execution_count": 25,
   "id": "4b1a3cb4",
   "metadata": {
    "execution": {
     "iopub.execute_input": "2023-03-30T16:54:16.874034Z",
     "iopub.status.busy": "2023-03-30T16:54:16.873506Z",
     "iopub.status.idle": "2023-03-30T16:54:18.199137Z",
     "shell.execute_reply": "2023-03-30T16:54:18.198350Z"
    },
    "id": "gubCaepTjt9o",
    "outputId": "8c688c84-6bf0-47fc-87a7-ebdd5476d74d",
    "papermill": {
     "duration": 1.346385,
     "end_time": "2023-03-30T16:54:18.201002",
     "exception": false,
     "start_time": "2023-03-30T16:54:16.854617",
     "status": "completed"
    },
    "tags": []
   },
   "outputs": [
    {
     "data": {
      "text/plain": [
       "(0.8601232147857744, 0.3113163972286374)"
      ]
     },
     "execution_count": 25,
     "metadata": {},
     "output_type": "execute_result"
    }
   ],
   "source": [
    "bag_pipe = Pipeline([('features', FeatureUnion([('num', num_pipeline),\n",
    "                                                ('cat', original_cat_pipeline),\n",
    "                                                ('cat_shown_as_num', cat_shown_as_num_pipeline)\n",
    "                                                ])),\n",
    "                      ('poly', PolynomialFeatures(degree=1)),\n",
    "                      ('scaler', MinMaxScaler()),\n",
    "                      ('bag', BaggingClassifier())])\n",
    "\n",
    "bag_pipe.fit(X_train_resampled, y_train_resampled)\n",
    "f1_score(y_train_resampled, bag_pipe.predict(X_train_resampled)), f1_score(y_test, bag_pipe.predict(X_test))"
   ]
  },
  {
   "cell_type": "markdown",
   "id": "3a5806cd",
   "metadata": {
    "id": "gSmWGLT_2XX1",
    "papermill": {
     "duration": 0.016827,
     "end_time": "2023-03-30T16:54:18.235081",
     "exception": false,
     "start_time": "2023-03-30T16:54:18.218254",
     "status": "completed"
    },
    "tags": []
   },
   "source": [
    "Random Forest provids a better overall f1 score on the train and test.\n",
    "This could be because since Random Forest is an ensembling technique, it performs better when exposed to outliers"
   ]
  },
  {
   "cell_type": "markdown",
   "id": "d0f84860",
   "metadata": {
    "id": "iQdr0Fuk3C80",
    "papermill": {
     "duration": 0.016961,
     "end_time": "2023-03-30T16:54:18.269278",
     "exception": false,
     "start_time": "2023-03-30T16:54:18.252317",
     "status": "completed"
    },
    "tags": []
   },
   "source": [
    "#Feature Selection"
   ]
  },
  {
   "cell_type": "code",
   "execution_count": 26,
   "id": "dccd442b",
   "metadata": {
    "execution": {
     "iopub.execute_input": "2023-03-30T16:54:18.306705Z",
     "iopub.status.busy": "2023-03-30T16:54:18.305632Z",
     "iopub.status.idle": "2023-03-30T16:54:18.630870Z",
     "shell.execute_reply": "2023-03-30T16:54:18.630230Z"
    },
    "id": "OsuEqCDyeYWj",
    "papermill": {
     "duration": 0.346413,
     "end_time": "2023-03-30T16:54:18.633247",
     "exception": false,
     "start_time": "2023-03-30T16:54:18.286834",
     "status": "completed"
    },
    "tags": []
   },
   "outputs": [],
   "source": [
    "data_pipe = Pipeline([('features', FeatureUnion([('num', num_pipeline),\n",
    "                                                ('cat', original_cat_pipeline),\n",
    "                                                ('cat_shown_as_num', cat_shown_as_num_pipeline)\n",
    "                                                ])),\n",
    "                     ('scaler', MinMaxScaler()),\n",
    "                     ('poly', PolynomialFeatures(degree=1))])\n",
    "\n",
    "sfm = SelectFromModel(rf_pipe[-1]).fit(data_pipe.fit_transform(X_train, y_train), y_train)"
   ]
  },
  {
   "cell_type": "code",
   "execution_count": 27,
   "id": "577e8a66",
   "metadata": {
    "execution": {
     "iopub.execute_input": "2023-03-30T16:54:18.670569Z",
     "iopub.status.busy": "2023-03-30T16:54:18.670226Z",
     "iopub.status.idle": "2023-03-30T16:54:18.704457Z",
     "shell.execute_reply": "2023-03-30T16:54:18.703611Z"
    },
    "id": "5AkLnvw1hLMi",
    "outputId": "b128178d-f7ca-4a89-e63c-550f766397ba",
    "papermill": {
     "duration": 0.055211,
     "end_time": "2023-03-30T16:54:18.706213",
     "exception": false,
     "start_time": "2023-03-30T16:54:18.651002",
     "status": "completed"
    },
    "tags": []
   },
   "outputs": [
    {
     "data": {
      "text/html": [
       "<div>\n",
       "<style scoped>\n",
       "    .dataframe tbody tr th:only-of-type {\n",
       "        vertical-align: middle;\n",
       "    }\n",
       "\n",
       "    .dataframe tbody tr th {\n",
       "        vertical-align: top;\n",
       "    }\n",
       "\n",
       "    .dataframe thead th {\n",
       "        text-align: right;\n",
       "    }\n",
       "</style>\n",
       "<table border=\"1\" class=\"dataframe\">\n",
       "  <thead>\n",
       "    <tr style=\"text-align: right;\">\n",
       "      <th></th>\n",
       "      <th>LandingPage</th>\n",
       "      <th>ProductDescriptionPage_Duration</th>\n",
       "      <th>GoogleMetric:Bounce Rates</th>\n",
       "      <th>GoogleMetric:Exit Rates</th>\n",
       "      <th>GoogleMetric:Page Values</th>\n",
       "      <th>SeasonalPurchase</th>\n",
       "    </tr>\n",
       "  </thead>\n",
       "  <tbody>\n",
       "    <tr>\n",
       "      <th>10081</th>\n",
       "      <td>0.0</td>\n",
       "      <td>300.766667</td>\n",
       "      <td>0.004762</td>\n",
       "      <td>0.022222</td>\n",
       "      <td>0.0</td>\n",
       "      <td>0.0</td>\n",
       "    </tr>\n",
       "    <tr>\n",
       "      <th>4809</th>\n",
       "      <td>0.0</td>\n",
       "      <td>42.200000</td>\n",
       "      <td>0.000000</td>\n",
       "      <td>0.040000</td>\n",
       "      <td>0.0</td>\n",
       "      <td>0.0</td>\n",
       "    </tr>\n",
       "    <tr>\n",
       "      <th>11007</th>\n",
       "      <td>1.0</td>\n",
       "      <td>13.000000</td>\n",
       "      <td>0.000000</td>\n",
       "      <td>0.100000</td>\n",
       "      <td>0.0</td>\n",
       "      <td>0.0</td>\n",
       "    </tr>\n",
       "    <tr>\n",
       "      <th>2168</th>\n",
       "      <td>0.0</td>\n",
       "      <td>2665.798039</td>\n",
       "      <td>0.007143</td>\n",
       "      <td>0.027289</td>\n",
       "      <td>0.0</td>\n",
       "      <td>0.8</td>\n",
       "    </tr>\n",
       "    <tr>\n",
       "      <th>7417</th>\n",
       "      <td>0.0</td>\n",
       "      <td>4894.851299</td>\n",
       "      <td>0.002683</td>\n",
       "      <td>0.028447</td>\n",
       "      <td>0.0</td>\n",
       "      <td>0.0</td>\n",
       "    </tr>\n",
       "  </tbody>\n",
       "</table>\n",
       "</div>"
      ],
      "text/plain": [
       "       LandingPage  ProductDescriptionPage_Duration  \\\n",
       "10081          0.0                       300.766667   \n",
       "4809           0.0                        42.200000   \n",
       "11007          1.0                        13.000000   \n",
       "2168           0.0                      2665.798039   \n",
       "7417           0.0                      4894.851299   \n",
       "\n",
       "       GoogleMetric:Bounce Rates  GoogleMetric:Exit Rates  \\\n",
       "10081                   0.004762                 0.022222   \n",
       "4809                    0.000000                 0.040000   \n",
       "11007                   0.000000                 0.100000   \n",
       "2168                    0.007143                 0.027289   \n",
       "7417                    0.002683                 0.028447   \n",
       "\n",
       "       GoogleMetric:Page Values  SeasonalPurchase  \n",
       "10081                       0.0               0.0  \n",
       "4809                        0.0               0.0  \n",
       "11007                       0.0               0.0  \n",
       "2168                        0.0               0.8  \n",
       "7417                        0.0               0.0  "
      ]
     },
     "execution_count": 27,
     "metadata": {},
     "output_type": "execute_result"
    }
   ],
   "source": [
    "selected_cols = X_train.columns[(sfm.get_support()[:-1])]\n",
    "selected_features = X_train[selected_cols]\n",
    "selected_features.head()"
   ]
  },
  {
   "cell_type": "code",
   "execution_count": 28,
   "id": "094d6174",
   "metadata": {
    "execution": {
     "iopub.execute_input": "2023-03-30T16:54:18.742530Z",
     "iopub.status.busy": "2023-03-30T16:54:18.742171Z",
     "iopub.status.idle": "2023-03-30T16:54:18.995723Z",
     "shell.execute_reply": "2023-03-30T16:54:18.994628Z"
    },
    "id": "NiT5YWgxkCKz",
    "outputId": "b234cac8-cdc5-4197-a242-df07e3407e5c",
    "papermill": {
     "duration": 0.274163,
     "end_time": "2023-03-30T16:54:18.997746",
     "exception": false,
     "start_time": "2023-03-30T16:54:18.723583",
     "status": "completed"
    },
    "tags": []
   },
   "outputs": [
    {
     "data": {
      "text/plain": [
       "Pipeline(steps=[('imputer', SimpleImputer(strategy='median')),\n",
       "                ('function_transform',\n",
       "                 FunctionTransformer(func=<ufunc 'log1p'>)),\n",
       "                ('poly', PolynomialFeatures(degree=1)),\n",
       "                ('scaler', MinMaxScaler()),\n",
       "                ('rf',\n",
       "                 RandomForestClassifier(max_depth=2, max_features=0.3,\n",
       "                                        max_samples=0.05, n_estimators=120))])"
      ]
     },
     "execution_count": 28,
     "metadata": {},
     "output_type": "execute_result"
    }
   ],
   "source": [
    "selected_pipe = Pipeline([('imputer', SimpleImputer(strategy='median')),\n",
    "                         ('function_transform', FunctionTransformer(np.log1p)),\n",
    "                          ('poly', PolynomialFeatures(degree=1)), \n",
    "                         ('scaler', MinMaxScaler()),\n",
    "                         ('rf', RandomForestClassifier(n_estimators=120, max_depth=2, \n",
    "                                                       max_features=0.3, max_samples=0.05))])\n",
    "selected_pipe.fit(selected_features, y_train)"
   ]
  },
  {
   "cell_type": "markdown",
   "id": "04370964",
   "metadata": {
    "id": "De4vJZre297h",
    "papermill": {
     "duration": 0.017823,
     "end_time": "2023-03-30T16:54:19.034366",
     "exception": false,
     "start_time": "2023-03-30T16:54:19.016543",
     "status": "completed"
    },
    "tags": []
   },
   "source": [
    "# Hyperparameter Tuning"
   ]
  },
  {
   "cell_type": "code",
   "execution_count": 29,
   "id": "fc941430",
   "metadata": {
    "execution": {
     "iopub.execute_input": "2023-03-30T16:54:19.072518Z",
     "iopub.status.busy": "2023-03-30T16:54:19.072143Z",
     "iopub.status.idle": "2023-03-30T16:54:19.078461Z",
     "shell.execute_reply": "2023-03-30T16:54:19.077544Z"
    },
    "id": "W_nYVlGnTgZO",
    "outputId": "48d5d122-f358-4d7f-fd75-90b1f430fb36",
    "papermill": {
     "duration": 0.02696,
     "end_time": "2023-03-30T16:54:19.080392",
     "exception": false,
     "start_time": "2023-03-30T16:54:19.053432",
     "status": "completed"
    },
    "tags": []
   },
   "outputs": [],
   "source": [
    "params = {'poly__degree': [1,2,3],\n",
    "          'rf__n_estimators':[80,120,140],\n",
    "          'rf__max_depth': [3,6,8,10],\n",
    "          'rf__max_samples': [0.4,0.6,0.8],\n",
    "          'rf__max_features': [0.6,0.8,1]}\n",
    "\n",
    "gscv = GridSearchCV(selected_pipe, param_grid=params, scoring='f1', \n",
    "                    cv=5, \n",
    "                    return_train_score=True, error_score='raise', n_jobs=-1)\n",
    "# gscv.fit(X_train_resampled[selected_cols], y_train_resampled)"
   ]
  },
  {
   "cell_type": "code",
   "execution_count": 30,
   "id": "ce375c5a",
   "metadata": {
    "execution": {
     "iopub.execute_input": "2023-03-30T16:54:19.117033Z",
     "iopub.status.busy": "2023-03-30T16:54:19.116631Z",
     "iopub.status.idle": "2023-03-30T16:54:19.121278Z",
     "shell.execute_reply": "2023-03-30T16:54:19.120386Z"
    },
    "id": "hMYR64ZaWyz6",
    "outputId": "9f7b1763-e8b2-4280-c0fc-f87af1b4445d",
    "papermill": {
     "duration": 0.025287,
     "end_time": "2023-03-30T16:54:19.123102",
     "exception": false,
     "start_time": "2023-03-30T16:54:19.097815",
     "status": "completed"
    },
    "tags": []
   },
   "outputs": [],
   "source": [
    "# gscv.best_params_, gscv.best_score_"
   ]
  },
  {
   "cell_type": "code",
   "execution_count": 31,
   "id": "b228f07d",
   "metadata": {
    "execution": {
     "iopub.execute_input": "2023-03-30T16:54:19.161160Z",
     "iopub.status.busy": "2023-03-30T16:54:19.160263Z",
     "iopub.status.idle": "2023-03-30T16:54:19.164217Z",
     "shell.execute_reply": "2023-03-30T16:54:19.163422Z"
    },
    "papermill": {
     "duration": 0.025141,
     "end_time": "2023-03-30T16:54:19.166248",
     "exception": false,
     "start_time": "2023-03-30T16:54:19.141107",
     "status": "completed"
    },
    "tags": []
   },
   "outputs": [],
   "source": [
    "# selected_pipe = gscv.best_estimator_"
   ]
  },
  {
   "cell_type": "markdown",
   "id": "1baf210f",
   "metadata": {
    "id": "Jo4OX2_X3KS9",
    "papermill": {
     "duration": 0.018375,
     "end_time": "2023-03-30T16:54:19.202124",
     "exception": false,
     "start_time": "2023-03-30T16:54:19.183749",
     "status": "completed"
    },
    "tags": []
   },
   "source": [
    "# Predicting the Test Data"
   ]
  },
  {
   "cell_type": "code",
   "execution_count": 32,
   "id": "b3793d49",
   "metadata": {
    "execution": {
     "iopub.execute_input": "2023-03-30T16:54:19.239268Z",
     "iopub.status.busy": "2023-03-30T16:54:19.238919Z",
     "iopub.status.idle": "2023-03-30T16:54:19.270717Z",
     "shell.execute_reply": "2023-03-30T16:54:19.269594Z"
    },
    "id": "5LdOQrsG2y_0",
    "papermill": {
     "duration": 0.053367,
     "end_time": "2023-03-30T16:54:19.273295",
     "exception": false,
     "start_time": "2023-03-30T16:54:19.219928",
     "status": "completed"
    },
    "tags": []
   },
   "outputs": [],
   "source": [
    "test_data = pd.read_csv('/kaggle/input/e-commerce-shoppers-behaviour-understanding/test_data_v2.csv')"
   ]
  },
  {
   "cell_type": "code",
   "execution_count": 33,
   "id": "1bdc60fd",
   "metadata": {
    "execution": {
     "iopub.execute_input": "2023-03-30T16:54:19.310721Z",
     "iopub.status.busy": "2023-03-30T16:54:19.310339Z",
     "iopub.status.idle": "2023-03-30T16:54:19.368241Z",
     "shell.execute_reply": "2023-03-30T16:54:19.367281Z"
    },
    "id": "NUenXiLnlwd-",
    "papermill": {
     "duration": 0.079313,
     "end_time": "2023-03-30T16:54:19.370626",
     "exception": false,
     "start_time": "2023-03-30T16:54:19.291313",
     "status": "completed"
    },
    "tags": []
   },
   "outputs": [],
   "source": [
    "test_selected_features = test_data[selected_cols]\n",
    "test_hat = selected_pipe.predict(test_selected_features)"
   ]
  },
  {
   "cell_type": "code",
   "execution_count": 34,
   "id": "dfa182e8",
   "metadata": {
    "execution": {
     "iopub.execute_input": "2023-03-30T16:54:19.408273Z",
     "iopub.status.busy": "2023-03-30T16:54:19.407863Z",
     "iopub.status.idle": "2023-03-30T16:54:19.427758Z",
     "shell.execute_reply": "2023-03-30T16:54:19.426800Z"
    },
    "id": "n2Ykn8vpDaks",
    "papermill": {
     "duration": 0.041214,
     "end_time": "2023-03-30T16:54:19.430194",
     "exception": false,
     "start_time": "2023-03-30T16:54:19.388980",
     "status": "completed"
    },
    "tags": []
   },
   "outputs": [],
   "source": [
    "submission=pd.DataFrame(columns=['id', 'Made_Purchase'])\n",
    "submission['id']=[i for i in range(len(test_hat))]\n",
    "submission[\"Made_Purchase\"]=test_hat\n",
    "submission.to_csv('submission.csv',index=False)"
   ]
  }
 ],
 "metadata": {
  "kernelspec": {
   "display_name": "Python 3",
   "language": "python",
   "name": "python3"
  },
  "language_info": {
   "codemirror_mode": {
    "name": "ipython",
    "version": 3
   },
   "file_extension": ".py",
   "mimetype": "text/x-python",
   "name": "python",
   "nbconvert_exporter": "python",
   "pygments_lexer": "ipython3",
   "version": "3.7.12"
  },
  "papermill": {
   "default_parameters": {},
   "duration": 23.096849,
   "end_time": "2023-03-30T16:54:20.371239",
   "environment_variables": {},
   "exception": null,
   "input_path": "__notebook__.ipynb",
   "output_path": "__notebook__.ipynb",
   "parameters": {},
   "start_time": "2023-03-30T16:53:57.274390",
   "version": "2.3.4"
  }
 },
 "nbformat": 4,
 "nbformat_minor": 5
}
